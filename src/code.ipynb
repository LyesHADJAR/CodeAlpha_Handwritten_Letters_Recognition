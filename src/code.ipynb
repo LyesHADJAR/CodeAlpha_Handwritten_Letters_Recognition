{
 "cells": [
  {
   "cell_type": "markdown",
   "metadata": {},
   "source": [
    "# Handwritten Letters Recognition"
   ]
  },
  {
   "cell_type": "markdown",
   "metadata": {},
   "source": [
    "This is a notebook that implements a CNN model to recognize handwritten letters"
   ]
  },
  {
   "cell_type": "markdown",
   "metadata": {},
   "source": [
    "### Libraries import"
   ]
  },
  {
   "cell_type": "code",
   "execution_count": 1,
   "metadata": {},
   "outputs": [
    {
     "name": "stderr",
     "output_type": "stream",
     "text": [
      "2024-08-03 12:49:08.547408: E external/local_xla/xla/stream_executor/cuda/cuda_fft.cc:485] Unable to register cuFFT factory: Attempting to register factory for plugin cuFFT when one has already been registered\n",
      "2024-08-03 12:49:08.558844: E external/local_xla/xla/stream_executor/cuda/cuda_dnn.cc:8454] Unable to register cuDNN factory: Attempting to register factory for plugin cuDNN when one has already been registered\n",
      "2024-08-03 12:49:08.562262: E external/local_xla/xla/stream_executor/cuda/cuda_blas.cc:1452] Unable to register cuBLAS factory: Attempting to register factory for plugin cuBLAS when one has already been registered\n",
      "2024-08-03 12:49:08.572307: I tensorflow/core/platform/cpu_feature_guard.cc:210] This TensorFlow binary is optimized to use available CPU instructions in performance-critical operations.\n",
      "To enable the following instructions: AVX2 FMA, in other operations, rebuild TensorFlow with the appropriate compiler flags.\n",
      "2024-08-03 12:49:09.332679: W tensorflow/compiler/tf2tensorrt/utils/py_utils.cc:38] TF-TRT Warning: Could not find TensorRT\n"
     ]
    }
   ],
   "source": [
    "import pandas as pd\n",
    "import numpy as np\n",
    "import matplotlib.pyplot as plt\n",
    "import seaborn as sn\n",
    "from tensorflow.keras.utils import to_categorical\n",
    "from keras.models import Sequential\n",
    "from sklearn.model_selection import train_test_split\n",
    "from keras.layers import Input, Conv2D, MaxPool2D, Flatten, Dense\n",
    "from tensorflow.keras.preprocessing.image import ImageDataGenerator\n",
    "from tensorflow.keras.layers import BatchNormalization, Dropout, MaxPooling2D\n",
    "from tensorflow.keras.callbacks import EarlyStopping, ReduceLROnPlateau,ModelCheckpoint"
   ]
  },
  {
   "cell_type": "markdown",
   "metadata": {},
   "source": [
    "### Setting up the data"
   ]
  },
  {
   "cell_type": "code",
   "execution_count": 2,
   "metadata": {},
   "outputs": [],
   "source": [
    "train_ds = pd.read_csv('/home/alpha/Projects/ML_internship/CodeAlpha_Handwritten_Letters_Recognition/Data/emnist-letters-train.csv')\n",
    "test_ds = pd.read_csv('/home/alpha/Projects/ML_internship/CodeAlpha_Handwritten_Letters_Recognition/Data/emnist-letters-test.csv')"
   ]
  },
  {
   "cell_type": "code",
   "execution_count": 3,
   "metadata": {},
   "outputs": [
    {
     "name": "stdout",
     "output_type": "stream",
     "text": [
      "(88799, 785)\n",
      "(14799, 785)\n"
     ]
    }
   ],
   "source": [
    "print(train_ds.shape)\n",
    "print(test_ds.shape)"
   ]
  },
  {
   "cell_type": "code",
   "execution_count": 4,
   "metadata": {},
   "outputs": [],
   "source": [
    "X_train = np.array(train_ds.iloc[:, 1:].values)\n",
    "y_train = np.array(train_ds.iloc[:, 0].values)\n",
    "\n",
    "X_test = np.array(test_ds.iloc[:, 1:].values)\n",
    "y_test = np.array(test_ds.iloc[:, 0].values)"
   ]
  },
  {
   "cell_type": "code",
   "execution_count": 5,
   "metadata": {},
   "outputs": [
    {
     "name": "stdout",
     "output_type": "stream",
     "text": [
      "7\n"
     ]
    },
    {
     "data": {
      "image/png": "[encoded data removed]",
      "text/plain": [
       "<Figure size 640x480 with 1 Axes>"
      ]
     },
     "metadata": {},
     "output_type": "display_data"
    }
   ],
   "source": [
    "picture_number = 0\n",
    "print(y_train[picture_number])\n",
    "plt.imshow(X_train[picture_number].reshape(28, 28).T)\n",
    "plt.show()"
   ]
  },
  {
   "cell_type": "markdown",
   "metadata": {},
   "source": [
    "### Process the data (Normalization and Augmentation)"
   ]
  },
  {
   "cell_type": "code",
   "execution_count": 6,
   "metadata": {},
   "outputs": [],
   "source": [
    "X_train = X_train / 255.0\n",
    "X_test = X_test / 255.0"
   ]
  },
  {
   "cell_type": "code",
   "execution_count": 7,
   "metadata": {},
   "outputs": [],
   "source": [
    "batch_number_train = train_ds.shape[0]\n",
    "batch_number_test = test_ds.shape[0]\n",
    "IMG_HEIGHT = 28\n",
    "IMG_WIDTH = 28\n",
    "CHANNELS = 1\n",
    "\n",
    "X_train = X_train.reshape(batch_number_train, IMG_HEIGHT, IMG_WIDTH, CHANNELS)\n",
    "X_test = X_test.reshape(batch_number_test, IMG_HEIGHT, IMG_WIDTH, CHANNELS)"
   ]
  },
  {
   "cell_type": "code",
   "execution_count": 8,
   "metadata": {},
   "outputs": [],
   "source": [
    "NUMBER_OF_CLASSES = 27\n",
    "y_train = to_categorical(y_train, NUMBER_OF_CLASSES)\n",
    "y_test = to_categorical(y_test, NUMBER_OF_CLASSES)\n",
    "\n",
    "X_train, X_val, y_train, y_val = train_test_split(X_train, y_train, test_size=0.2)"
   ]
  },
  {
   "cell_type": "code",
   "execution_count": 9,
   "metadata": {},
   "outputs": [],
   "source": [
    "datagen = ImageDataGenerator(\n",
    "    rotation_range=20,\n",
    "    width_shift_range=0.2,\n",
    "    height_shift_range=0.2,\n",
    "    shear_range=0.2,\n",
    "    zoom_range=0.2,\n",
    "    horizontal_flip=True,\n",
    "    fill_mode='nearest'\n",
    ")"
   ]
  },
  {
   "cell_type": "markdown",
   "metadata": {},
   "source": [
    "### Building the model"
   ]
  },
  {
   "cell_type": "code",
   "execution_count": 14,
   "metadata": {},
   "outputs": [],
   "source": [
    "model = Sequential([\n",
    "    Conv2D(32, kernel_size=(3, 3), activation='relu', input_shape=(28, 28, 1)),\n",
    "    BatchNormalization(),\n",
    "    MaxPooling2D(pool_size=(2, 2)),\n",
    "    Dropout(0.25),\n",
    "    \n",
    "    Conv2D(64, kernel_size=(3, 3), activation='relu'),\n",
    "    BatchNormalization(),\n",
    "    MaxPooling2D(pool_size=(2, 2)),\n",
    "    Dropout(0.25),\n",
    "    \n",
    "    Flatten(),\n",
    "    Dense(128, activation='relu'),\n",
    "    BatchNormalization(),\n",
    "    Dropout(0.5),\n",
    "    Dense(27, activation='softmax')\n",
    "])\n"
   ]
  },
  {
   "cell_type": "code",
   "execution_count": 15,
   "metadata": {},
   "outputs": [],
   "source": [
    "early_stopping = EarlyStopping(monitor='val_accuracy',min_delta=0,verbose=0,restore_best_weights = True,patience=5,mode='max')\n",
    "reduce_LR_on_plateau = ReduceLROnPlateau(monitor='val_loss', factor=0.2, patience=3, min_lr=0.0001)\n",
    "model_checkpoint = ModelCheckpoint('Best_Model.keras',verbose=1,save_best_only=True,monitor='val_accuracy',mode='max')"
   ]
  },
  {
   "cell_type": "code",
   "execution_count": 16,
   "metadata": {},
   "outputs": [],
   "source": [
    "model.compile(loss='categorical_crossentropy', optimizer='adam', metrics=['accuracy'])"
   ]
  },
  {
   "cell_type": "code",
   "execution_count": 17,
   "metadata": {},
   "outputs": [
    {
     "name": "stdout",
     "output_type": "stream",
     "text": [
      "Epoch 1/100\n",
      "\u001b[1m2217/2220\u001b[0m \u001b[32m━━━━━━━━━━━━━━━━━━━\u001b[0m\u001b[37m━\u001b[0m \u001b[1m0s\u001b[0m 10ms/step - accuracy: 0.6338 - loss: 1.2835\n",
      "Epoch 1: val_accuracy improved from -inf to 0.89229, saving model to Best_Model.keras\n",
      "\u001b[1m2220/2220\u001b[0m \u001b[32m━━━━━━━━━━━━━━━━━━━━\u001b[0m\u001b[37m\u001b[0m \u001b[1m26s\u001b[0m 11ms/step - accuracy: 0.6340 - loss: 1.2827 - val_accuracy: 0.8923 - val_loss: 0.3335 - learning_rate: 0.0010\n",
      "Epoch 2/100\n",
      "\u001b[1m2220/2220\u001b[0m \u001b[32m━━━━━━━━━━━━━━━━━━━━\u001b[0m\u001b[37m\u001b[0m \u001b[1m0s\u001b[0m 11ms/step - accuracy: 0.8442 - loss: 0.4835\n",
      "Epoch 2: val_accuracy improved from 0.89229 to 0.90676, saving model to Best_Model.keras\n",
      "\u001b[1m2220/2220\u001b[0m \u001b[32m━━━━━━━━━━━━━━━━━━━━\u001b[0m\u001b[37m\u001b[0m \u001b[1m26s\u001b[0m 12ms/step - accuracy: 0.8442 - loss: 0.4835 - val_accuracy: 0.9068 - val_loss: 0.2800 - learning_rate: 0.0010\n",
      "Epoch 3/100\n",
      "\u001b[1m2219/2220\u001b[0m \u001b[32m━━━━━━━━━━━━━━━━━━━\u001b[0m\u001b[37m━\u001b[0m \u001b[1m0s\u001b[0m 11ms/step - accuracy: 0.8715 - loss: 0.4030\n",
      "Epoch 3: val_accuracy improved from 0.90676 to 0.92157, saving model to Best_Model.keras\n",
      "\u001b[1m2220/2220\u001b[0m \u001b[32m━━━━━━━━━━━━━━━━━━━━\u001b[0m\u001b[37m\u001b[0m \u001b[1m25s\u001b[0m 11ms/step - accuracy: 0.8715 - loss: 0.4030 - val_accuracy: 0.9216 - val_loss: 0.2410 - learning_rate: 0.0010\n",
      "Epoch 4/100\n",
      "\u001b[1m2219/2220\u001b[0m \u001b[32m━━━━━━━━━━━━━━━━━━━\u001b[0m\u001b[37m━\u001b[0m \u001b[1m0s\u001b[0m 10ms/step - accuracy: 0.8860 - loss: 0.3555\n",
      "Epoch 4: val_accuracy did not improve from 0.92157\n",
      "\u001b[1m2220/2220\u001b[0m \u001b[32m━━━━━━━━━━━━━━━━━━━━\u001b[0m\u001b[37m\u001b[0m \u001b[1m25s\u001b[0m 11ms/step - accuracy: 0.8860 - loss: 0.3555 - val_accuracy: 0.9202 - val_loss: 0.2355 - learning_rate: 0.0010\n",
      "Epoch 5/100\n",
      "\u001b[1m2213/2220\u001b[0m \u001b[32m━━━━━━━━━━━━━━━━━━━\u001b[0m\u001b[37m━\u001b[0m \u001b[1m0s\u001b[0m 10ms/step - accuracy: 0.8959 - loss: 0.3204\n",
      "Epoch 5: val_accuracy improved from 0.92157 to 0.92630, saving model to Best_Model.keras\n",
      "\u001b[1m2220/2220\u001b[0m \u001b[32m━━━━━━━━━━━━━━━━━━━━\u001b[0m\u001b[37m\u001b[0m \u001b[1m25s\u001b[0m 11ms/step - accuracy: 0.8958 - loss: 0.3204 - val_accuracy: 0.9263 - val_loss: 0.2158 - learning_rate: 0.0010\n",
      "Epoch 6/100\n",
      "\u001b[1m2220/2220\u001b[0m \u001b[32m━━━━━━━━━━━━━━━━━━━━\u001b[0m\u001b[37m\u001b[0m \u001b[1m0s\u001b[0m 12ms/step - accuracy: 0.9016 - loss: 0.3024\n",
      "Epoch 6: val_accuracy improved from 0.92630 to 0.92956, saving model to Best_Model.keras\n",
      "\u001b[1m2220/2220\u001b[0m \u001b[32m━━━━━━━━━━━━━━━━━━━━\u001b[0m\u001b[37m\u001b[0m \u001b[1m28s\u001b[0m 13ms/step - accuracy: 0.9016 - loss: 0.3024 - val_accuracy: 0.9296 - val_loss: 0.2057 - learning_rate: 0.0010\n",
      "Epoch 7/100\n",
      "\u001b[1m2217/2220\u001b[0m \u001b[32m━━━━━━━━━━━━━━━━━━━\u001b[0m\u001b[37m━\u001b[0m \u001b[1m0s\u001b[0m 12ms/step - accuracy: 0.9045 - loss: 0.2945\n",
      "Epoch 7: val_accuracy improved from 0.92956 to 0.93164, saving model to Best_Model.keras\n",
      "\u001b[1m2220/2220\u001b[0m \u001b[32m━━━━━━━━━━━━━━━━━━━━\u001b[0m\u001b[37m\u001b[0m \u001b[1m27s\u001b[0m 12ms/step - accuracy: 0.9045 - loss: 0.2945 - val_accuracy: 0.9316 - val_loss: 0.1960 - learning_rate: 0.0010\n",
      "Epoch 8/100\n",
      "\u001b[1m2215/2220\u001b[0m \u001b[32m━━━━━━━━━━━━━━━━━━━\u001b[0m\u001b[37m━\u001b[0m \u001b[1m0s\u001b[0m 12ms/step - accuracy: 0.9073 - loss: 0.2764\n",
      "Epoch 8: val_accuracy improved from 0.93164 to 0.93176, saving model to Best_Model.keras\n",
      "\u001b[1m2220/2220\u001b[0m \u001b[32m━━━━━━━━━━━━━━━━━━━━\u001b[0m\u001b[37m\u001b[0m \u001b[1m27s\u001b[0m 12ms/step - accuracy: 0.9073 - loss: 0.2764 - val_accuracy: 0.9318 - val_loss: 0.2023 - learning_rate: 0.0010\n",
      "Epoch 9/100\n",
      "\u001b[1m2219/2220\u001b[0m \u001b[32m━━━━━━━━━━━━━━━━━━━\u001b[0m\u001b[37m━\u001b[0m \u001b[1m0s\u001b[0m 12ms/step - accuracy: 0.9099 - loss: 0.2687\n",
      "Epoch 9: val_accuracy improved from 0.93176 to 0.93739, saving model to Best_Model.keras\n",
      "\u001b[1m2220/2220\u001b[0m \u001b[32m━━━━━━━━━━━━━━━━━━━━\u001b[0m\u001b[37m\u001b[0m \u001b[1m27s\u001b[0m 12ms/step - accuracy: 0.9099 - loss: 0.2687 - val_accuracy: 0.9374 - val_loss: 0.1837 - learning_rate: 0.0010\n",
      "Epoch 10/100\n",
      "\u001b[1m2216/2220\u001b[0m \u001b[32m━━━━━━━━━━━━━━━━━━━\u001b[0m\u001b[37m━\u001b[0m \u001b[1m0s\u001b[0m 11ms/step - accuracy: 0.9133 - loss: 0.2596\n",
      "Epoch 10: val_accuracy improved from 0.93739 to 0.93761, saving model to Best_Model.keras\n",
      "\u001b[1m2220/2220\u001b[0m \u001b[32m━━━━━━━━━━━━━━━━━━━━\u001b[0m\u001b[37m\u001b[0m \u001b[1m26s\u001b[0m 12ms/step - accuracy: 0.9133 - loss: 0.2596 - val_accuracy: 0.9376 - val_loss: 0.1832 - learning_rate: 0.0010\n",
      "Epoch 11/100\n",
      "\u001b[1m2217/2220\u001b[0m \u001b[32m━━━━━━━━━━━━━━━━━━━\u001b[0m\u001b[37m━\u001b[0m \u001b[1m0s\u001b[0m 12ms/step - accuracy: 0.9146 - loss: 0.2533\n",
      "Epoch 11: val_accuracy did not improve from 0.93761\n",
      "\u001b[1m2220/2220\u001b[0m \u001b[32m━━━━━━━━━━━━━━━━━━━━\u001b[0m\u001b[37m\u001b[0m \u001b[1m28s\u001b[0m 13ms/step - accuracy: 0.9146 - loss: 0.2533 - val_accuracy: 0.9331 - val_loss: 0.1916 - learning_rate: 0.0010\n",
      "Epoch 12/100\n",
      "\u001b[1m2217/2220\u001b[0m \u001b[32m━━━━━━━━━━━━━━━━━━━\u001b[0m\u001b[37m━\u001b[0m \u001b[1m0s\u001b[0m 11ms/step - accuracy: 0.9168 - loss: 0.2480\n",
      "Epoch 12: val_accuracy did not improve from 0.93761\n",
      "\u001b[1m2220/2220\u001b[0m \u001b[32m━━━━━━━━━━━━━━━━━━━━\u001b[0m\u001b[37m\u001b[0m \u001b[1m26s\u001b[0m 12ms/step - accuracy: 0.9168 - loss: 0.2480 - val_accuracy: 0.9374 - val_loss: 0.1820 - learning_rate: 0.0010\n",
      "Epoch 13/100\n",
      "\u001b[1m2214/2220\u001b[0m \u001b[32m━━━━━━━━━━━━━━━━━━━\u001b[0m\u001b[37m━\u001b[0m \u001b[1m0s\u001b[0m 10ms/step - accuracy: 0.9182 - loss: 0.2414\n",
      "Epoch 13: val_accuracy did not improve from 0.93761\n",
      "\u001b[1m2220/2220\u001b[0m \u001b[32m━━━━━━━━━━━━━━━━━━━━\u001b[0m\u001b[37m\u001b[0m \u001b[1m24s\u001b[0m 11ms/step - accuracy: 0.9182 - loss: 0.2414 - val_accuracy: 0.9347 - val_loss: 0.1933 - learning_rate: 0.0010\n",
      "Epoch 14/100\n",
      "\u001b[1m2219/2220\u001b[0m \u001b[32m━━━━━━━━━━━━━━━━━━━\u001b[0m\u001b[37m━\u001b[0m \u001b[1m0s\u001b[0m 10ms/step - accuracy: 0.9197 - loss: 0.2380\n",
      "Epoch 14: val_accuracy did not improve from 0.93761\n",
      "\u001b[1m2220/2220\u001b[0m \u001b[32m━━━━━━━━━━━━━━━━━━━━\u001b[0m\u001b[37m\u001b[0m \u001b[1m24s\u001b[0m 11ms/step - accuracy: 0.9197 - loss: 0.2380 - val_accuracy: 0.9364 - val_loss: 0.1853 - learning_rate: 0.0010\n",
      "Epoch 15/100\n",
      "\u001b[1m2217/2220\u001b[0m \u001b[32m━━━━━━━━━━━━━━━━━━━\u001b[0m\u001b[37m━\u001b[0m \u001b[1m0s\u001b[0m 10ms/step - accuracy: 0.9233 - loss: 0.2245\n",
      "Epoch 15: val_accuracy did not improve from 0.93761\n",
      "\u001b[1m2220/2220\u001b[0m \u001b[32m━━━━━━━━━━━━━━━━━━━━\u001b[0m\u001b[37m\u001b[0m \u001b[1m23s\u001b[0m 10ms/step - accuracy: 0.9233 - loss: 0.2245 - val_accuracy: 0.9370 - val_loss: 0.1877 - learning_rate: 0.0010\n"
     ]
    }
   ],
   "source": [
    "history = model.fit(X_train, y_train, steps_per_epoch=len(X_train) // batch_number_train, epochs=100, validation_data=(X_val, y_val), batch_size=32, callbacks=[early_stopping, reduce_LR_on_plateau, model_checkpoint])"
   ]
  },
  {
   "cell_type": "code",
   "execution_count": 18,
   "metadata": {},
   "outputs": [
    {
     "name": "stdout",
     "output_type": "stream",
     "text": [
      "\u001b[1m463/463\u001b[0m \u001b[32m━━━━━━━━━━━━━━━━━━━━\u001b[0m\u001b[37m\u001b[0m \u001b[1m1s\u001b[0m 3ms/step - accuracy: 0.9332 - loss: 0.2043\n",
      "Test Accuracy: 92.34%\n",
      "Test Loss: 0.2149\n"
     ]
    }
   ],
   "source": [
    "loss, accuracy = model.evaluate(X_test, y_test)\n",
    "print(f'Test Accuracy: {accuracy * 100:.2f}%')\n",
    "print(f'Test Loss: {loss:.4f}')"
   ]
  },
  {
   "cell_type": "code",
   "execution_count": 19,
   "metadata": {},
   "outputs": [
    {
     "data": {
      "image/png": "[encoded data removed]",
      "text/plain": [
       "<Figure size 640x480 with 1 Axes>"
      ]
     },
     "metadata": {},
     "output_type": "display_data"
    }
   ],
   "source": [
    "sn.lineplot(x = np.arange(1, len(history.history['accuracy'])+1), y = history.history['accuracy'],label='Accuracy')\n",
    "sn.lineplot(x = np.arange(1, len(history.history['val_accuracy'])+1), y = history.history['val_accuracy'], label='Val_Accuracy')\n",
    "plt.xlabel(\"Epoch\")\n",
    "plt.ylabel(\"Accuracy\")\n",
    "plt.show()"
   ]
  }
 ],
 "metadata": {
  "kernelspec": {
   "display_name": "tf-gpu",
   "language": "python",
   "name": "python3"
  },
  "language_info": {
   "codemirror_mode": {
    "name": "ipython",
    "version": 3
   },
   "file_extension": ".py",
   "mimetype": "text/x-python",
   "name": "python",
   "nbconvert_exporter": "python",
   "pygments_lexer": "ipython3",
   "version": "3.12.4"
  }
 },
 "nbformat": 4,
 "nbformat_minor": 2
}
